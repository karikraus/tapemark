{
 "cells": [
  {
   "cell_type": "markdown",
   "metadata": {},
   "source": [
    "Nanni Balestrini's 1961 work of combinatorial poetry has been reimplemented in Python [here](https://github.com/fanfani/TAPE-MARK-1). "
   ]
  },
  {
   "cell_type": "markdown",
   "metadata": {},
   "source": [
    "In a new Markdown cell, create three groups of poetic lines. There should be 6 lines for group 1; 5 for group 2; and 4 for group 3. You can compose all these lines from scratch, or use found text for each group ([The Poetry Foundation](https://www.poetryfoundation.org/) is a good source for poetry, but just like Bertram and Balestrini, you can use prose as well). Each line might consist of a complete sentence (or independent clause) or some other grammatical unit, such as a phrase, subordinating clause, subject, predicate, or even single words.\n",
    "\n",
    "Now open the tapemark.py file. Line by line, replace Balestrini's text with your own in the code cell, being careful not to disturb any of the syntax. You can distribute each line however you want across and between the various forward and backward slashes--just be sure you leave those slashes intact and that everything is contained between the first set of quotation marks (don't disrupt the numbers). Basically, you've got to fragment or splinter each line you've created in order to distribute the component parts between the various slashes. Save your work. \n",
    "\n",
    "Now return to your notebook file and run the code cell below. "
   ]
  },
  {
   "cell_type": "code",
   "execution_count": null,
   "metadata": {},
   "outputs": [],
   "source": [
    "! while true; do ./tapemark.py ; sleep 6 ; done"
   ]
  },
  {
   "cell_type": "code",
   "execution_count": null,
   "metadata": {},
   "outputs": [],
   "source": []
  }
 ],
 "metadata": {
  "kernelspec": {
   "display_name": "Python 3",
   "language": "python",
   "name": "python3"
  },
  "language_info": {
   "codemirror_mode": {
    "name": "ipython",
    "version": 3
   },
   "file_extension": ".py",
   "mimetype": "text/x-python",
   "name": "python",
   "nbconvert_exporter": "python",
   "pygments_lexer": "ipython3",
   "version": "3.7.6"
  }
 },
 "nbformat": 4,
 "nbformat_minor": 4
}
