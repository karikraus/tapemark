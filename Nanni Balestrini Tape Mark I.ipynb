{
 "cells": [
  {
   "cell_type": "markdown",
   "metadata": {},
   "source": [
    "Nanni Balestrini's 1961 work of combinatorial poetry has been reimplemented in Python [here](https://github.com/fanfani/TAPE-MARK-1). I've used the reconstructed code by Emiliano Russo, Gabriele Zaverio and Vittorio Bellanich, but updated it for Python 3. \n",
    "\n",
    "You'll need to upload this .ipynb file, as well as the .py file I've shared in the \"Files\" section of Elms to your Jupyter Notebook environment. "
   ]
  },
  {
   "cell_type": "markdown",
   "metadata": {},
   "source": [
    "In a new Markdown cell, create three groups of poetic lines. There should be 6 lines for group 1; 5 for group 2; and 4 for group 3. You can compose all these lines from scratch, or use found text for each group ([The Poetry Foundation](https://www.poetryfoundation.org/) is a good source for poetry, but just like Bertram and Balestrini, you can use prose as well). Each line might consist of a complete sentence (or independent clause) or some other grammatical unit, such as a phrase, subordinating clause, subject, predicate, or even single words.\n",
    "\n",
    "Now open the tapemark.py file. Line by line, replace Balestrini's text with your own in the code cell, being careful not to disturb any of the syntax. You can distribute each line however you want across and between the various forward and backward slashes--just be sure you leave those slashes intact and that everything is contained between the first set of quotation marks (don't disrupt the numbers). Basically, you've got to fragment or splinter each line you've created in order to distribute the component parts between the various slashes. Save your work. \n",
    "\n",
    "Now return to your notebook file and run the code cell below. "
   ]
  },
  {
   "cell_type": "code",
   "execution_count": null,
   "metadata": {},
   "outputs": [],
   "source": [
    "! while true; do ./tapemark.py ; sleep 6 ; done"
   ]
  },
  {
   "cell_type": "markdown",
   "metadata": {},
   "source": [
    "If that doesn't work, try editing the code cell below instead of the .py file. You'll need to rerun the code cell each time you want to generate a new stanza. If you get an error message, try restarting the kernel and clearing all output. Then run the cell again."
   ]
  },
  {
   "cell_type": "code",
   "execution_count": null,
   "metadata": {},
   "outputs": [],
   "source": [
    "import random\n",
    "import sys\n",
    " \n",
    "versi = \\\n",
    "[[\" l accecante   /  globo  /  di fuoco  \", \"1/4\", \"2/3\", \"1\"],\\\n",
    "[\" si espande   /  rapidamente  \", \"1/2\", \"3/4\", \"1\"],\\\n",
    "[\" trenta volte  / piu luminoso  / del sole \", \"2/3\", \"2/4\", \"1\"],\\\n",
    "[\" quando  raggiunge / la stratosfera  \", \"3/4\", \"1/2\", \"1\"],\\\n",
    "[\" la  sommita  /  della nuvola \", \"1/3\", \"2/3\", \"1\"],\\\n",
    "[\" assume   / la ben nota forma  / di fungo \", \"2/4\", \"3/4\", \"1\"], \\\n",
    "\n",
    "[\" la testa / premuta  / sulla spalla  \", \"1/4\", \"2/4\", \"2\"],\\\n",
    "[\" i  capelli   /  tra le labbra \", \"1/4\", \"2/4\", \"2\"],\\\n",
    "[\" giacquero  /   immobili / senza parlare \", \"2/3\", \"2/3\", \"2\"],\\\n",
    "[\" finche non mosse  /  le dita  / lentamente    \", \"3/4\", \"1/3\", \"2\"],\\\n",
    "[\" cercando / di afferrare  \", \"3/4\", \"1/2\", \"2\"],\\\n",
    "\n",
    "[\" mentre la moltitudine  /  delle cose  /   accade   \", \"1/2\", \"1/2\", \"3\"],\\\n",
    "[\" io contemplo  /  il loro ritorno    \", \"2/3\", \"3/4\", \"3\"],\\\n",
    "[\" malgrado / che le cose  /  fioriscano    \", \"1/2\", \"2/3\", \"3\"],\\\n",
    "[\" esse tornano  / tutte    / alla loro radice   \", \"2/3\", \"1/4\", \"3\"]]\n",
    "\n",
    "#~ gruppo \"1\", 0-5: Diario di Hiroshima, di Michihito Hachiya\n",
    "#~ gruppo \"2\", 6-10: Il Mistero dell'ascensore, di Paul Goldwin\n",
    "#~ gruppo \"3\", 11-14: Tao te King, di Lao Tse\n",
    "\n",
    "random.shuffle(versi)\n",
    "strofa_uno = [None] * 10\n",
    "strofa_uno[0] = versi[0]\n",
    "versi.remove(strofa_uno[0])\n",
    "\n",
    "\n",
    "try:\n",
    "    i = 0 ; j = 0\n",
    "    while j < 9:\n",
    "        if (versi[i][1][0] == strofa_uno[j][2][0] \\\n",
    "        or versi[i][1][2] == strofa_uno[j][2][0] \\\n",
    "        or versi[i][1][2] == strofa_uno[j][2][2]) \\\n",
    "        and versi[i][3] != strofa_uno[j][3]:\n",
    "            # se le strofe \"stanno bene insieme\"\n",
    "            # e non appartengono allo stesso gruppo\n",
    "            strofa_uno[j+1] = versi[i]\n",
    "            versi.remove(versi[i])\n",
    "            i = 0\n",
    "            j += 1\n",
    "        # altrimenti, esamina l'elemento successivo\n",
    "        else:\n",
    "            i += 1\n",
    "            continue\n",
    "\n",
    "# se la combinazione in esame non soddisfa le condizioni, viene scartata\n",
    "except: sys.exit()\n",
    "\n",
    "\n",
    "strofa = []\n",
    "for k in range(len(strofa_uno)):\n",
    "\tstrofa.append(strofa_uno[k][0])\n",
    "\n",
    "s = '/'.join(strofa).split(\"/\")\n",
    "\n",
    "print(\"\")\n",
    "\n",
    "for k in range(len(s)):\n",
    "\t\n",
    "\tif k == (len(s) - 1): sys.stdout.write(s[k].upper())\n",
    "\telse: sys.stdout.write(s[k].upper())\n",
    "\n",
    "    # senza la seguente istruzione l'output di una strofa\n",
    "    # viene formattato come nel tabulato originale, senza 'a capo'\n",
    "    \n",
    "\t# if k > 0 and (k+1)%4 == 0: print \"\"\n",
    "\t\n",
    "print(\"\")"
   ]
  }
 ],
 "metadata": {
  "kernelspec": {
   "display_name": "Python 3",
   "language": "python",
   "name": "python3"
  },
  "language_info": {
   "codemirror_mode": {
    "name": "ipython",
    "version": 3
   },
   "file_extension": ".py",
   "mimetype": "text/x-python",
   "name": "python",
   "nbconvert_exporter": "python",
   "pygments_lexer": "ipython3",
   "version": "3.7.6"
  }
 },
 "nbformat": 4,
 "nbformat_minor": 4
}
